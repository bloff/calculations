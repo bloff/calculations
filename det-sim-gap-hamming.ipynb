{
 "cells": [
  {
   "cell_type": "code",
   "execution_count": 1,
   "metadata": {
    "collapsed": true
   },
   "outputs": [],
   "source": [
    "from numpy import *\n",
    "\n",
    "def H(ε):\n",
    "    return ε * log2(1/ ε) + (1 - ε) * log2(1/(1 - ε))\n",
    "\n",
    "def HH(ϕ, τ):\n",
    "    return H(ϕ/τ) * τ\n",
    "\n",
    "def f(α, β, ε):\n",
    "    return HH(α,1) + HH(β,1-α) - HH(α - ε,1/2) - HH(ε,1/2) - HH(β-ε,1/2-ε) - HH(ε,1/2- ( α - ε ))\n",
    "\n",
    "def ff(β, ε):\n",
    "    return f((1 - β)/2, β, ε)\n",
    "\n",
    "def g(α, β, ρ):\n",
    "    return HH(ρ-α, 1/2 - α) + HH(ρ-β, 1/2 - β)\n",
    "\n",
    "def gg(β):\n",
    "    return g((1 - β)/2, β, (1 - β)/2 + β*β/(2 - 2 * β))"
   ]
  },
  {
   "cell_type": "code",
   "execution_count": 2,
   "metadata": {},
   "outputs": [
    {
     "data": {
      "text/plain": [
       "0.44925501380551225"
      ]
     },
     "execution_count": 2,
     "metadata": {},
     "output_type": "execute_result"
    }
   ],
   "source": [
    "1 - ff(1/5, 1/100)"
   ]
  },
  {
   "cell_type": "code",
   "execution_count": 3,
   "metadata": {},
   "outputs": [
    {
     "data": {
      "text/plain": [
       "0.12474376402185922"
      ]
     },
     "execution_count": 3,
     "metadata": {},
     "output_type": "execute_result"
    }
   ],
   "source": [
    "1 - ff(1/5, 1/100) - gg(1/5)"
   ]
  },
  {
   "cell_type": "code",
   "execution_count": null,
   "metadata": {},
   "outputs": [],
   "source": [
    ""
   ]
  }
 ],
 "metadata": {
  "kernelspec": {
   "display_name": "Python 2",
   "language": "python",
   "name": "python2"
  },
  "language_info": {
   "codemirror_mode": {
    "name": "ipython",
    "version": 2.0
   },
   "file_extension": ".py",
   "mimetype": "text/x-python",
   "name": "python",
   "nbconvert_exporter": "python",
   "pygments_lexer": "ipython2",
   "version": "2.7.6"
  }
 },
 "nbformat": 4,
 "nbformat_minor": 0
}